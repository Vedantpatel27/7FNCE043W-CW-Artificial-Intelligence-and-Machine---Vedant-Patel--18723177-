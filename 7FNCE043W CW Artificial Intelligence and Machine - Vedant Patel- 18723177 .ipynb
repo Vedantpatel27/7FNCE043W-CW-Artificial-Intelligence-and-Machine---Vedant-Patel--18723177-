{
 "cells": [
  {
   "cell_type": "markdown",
   "metadata": {},
   "source": [
    "Portfolio Expected Return - The expected return of a portfolio is calculated by multiplying the weight of the asset by its return and summing the values of all the assets together. To introduce a forward looking estimate, probability may be introduced to generate and incorporate features in business and economy.\n",
    "\n",
    "Best performing Mutual Funds over 4 years in the US -create portfolio.\n",
    "Reduced selection in this exercise.\n",
    "\n",
    "Western Asset SMASh Series C Fund (LMLCX) , Spirit of America Income A (SOAIX), DFA Short-Duration Real Return Instl (DFAIX) ,Buffalo High-Yield (BUFHX) ,Baron Real Estate Income Institutional (BRIIX),Fidelity Advisor Technology A (FADTX), Fidelity Select Health Care Svcs Port (FSHCX) ,,DFA US Large Cap Growth Instl (DUSLX),Amana Mutual Funds Trust - Growth Fund (AMAGX),TIAA-CREF Short Duration Impact Bond Fund - Institutional Class (TSDJX)\n",
    "\n",
    "Portfolio variance is used as the measure of risk in this model. A higher variance will indicate a higher risk for the asset class and the portfolio."
   ]
  },
  {
   "cell_type": "code",
   "execution_count": 1,
   "metadata": {},
   "outputs": [],
   "source": [
    "import numpy as np\n",
    "import pandas as pd\n",
    "import matplotlib.pyplot as plt\n",
    "%matplotlib inline\n",
    "import yfinance as yf\n",
    "\n",
    "import seaborn as sns\n",
    "import matplotlib.pyplot as mp"
   ]
  },
  {
   "cell_type": "markdown",
   "metadata": {},
   "source": [
    "LOAD DATA FROM YAHOO FINANCE"
   ]
  },
  {
   "cell_type": "code",
   "execution_count": 2,
   "metadata": {},
   "outputs": [
    {
     "name": "stdout",
     "output_type": "stream",
     "text": [
      "[*********************100%***********************]  10 of 10 completed\n"
     ]
    },
    {
     "data": {
      "text/html": [
       "<div>\n",
       "<style scoped>\n",
       "    .dataframe tbody tr th:only-of-type {\n",
       "        vertical-align: middle;\n",
       "    }\n",
       "\n",
       "    .dataframe tbody tr th {\n",
       "        vertical-align: top;\n",
       "    }\n",
       "\n",
       "    .dataframe thead tr th {\n",
       "        text-align: left;\n",
       "    }\n",
       "\n",
       "    .dataframe thead tr:last-of-type th {\n",
       "        text-align: right;\n",
       "    }\n",
       "</style>\n",
       "<table border=\"1\" class=\"dataframe\">\n",
       "  <thead>\n",
       "    <tr>\n",
       "      <th></th>\n",
       "      <th colspan=\"10\" halign=\"left\">Adj Close</th>\n",
       "      <th>...</th>\n",
       "      <th colspan=\"10\" halign=\"left\">Volume</th>\n",
       "    </tr>\n",
       "    <tr>\n",
       "      <th></th>\n",
       "      <th>AMAGX</th>\n",
       "      <th>BRIIX</th>\n",
       "      <th>BUFHX</th>\n",
       "      <th>DFAIX</th>\n",
       "      <th>DUSLX</th>\n",
       "      <th>FADTX</th>\n",
       "      <th>FSHCX</th>\n",
       "      <th>LMLCX</th>\n",
       "      <th>SOAIX</th>\n",
       "      <th>TSDJX</th>\n",
       "      <th>...</th>\n",
       "      <th>AMAGX</th>\n",
       "      <th>BRIIX</th>\n",
       "      <th>BUFHX</th>\n",
       "      <th>DFAIX</th>\n",
       "      <th>DUSLX</th>\n",
       "      <th>FADTX</th>\n",
       "      <th>FSHCX</th>\n",
       "      <th>LMLCX</th>\n",
       "      <th>SOAIX</th>\n",
       "      <th>TSDJX</th>\n",
       "    </tr>\n",
       "    <tr>\n",
       "      <th>Date</th>\n",
       "      <th></th>\n",
       "      <th></th>\n",
       "      <th></th>\n",
       "      <th></th>\n",
       "      <th></th>\n",
       "      <th></th>\n",
       "      <th></th>\n",
       "      <th></th>\n",
       "      <th></th>\n",
       "      <th></th>\n",
       "      <th></th>\n",
       "      <th></th>\n",
       "      <th></th>\n",
       "      <th></th>\n",
       "      <th></th>\n",
       "      <th></th>\n",
       "      <th></th>\n",
       "      <th></th>\n",
       "      <th></th>\n",
       "      <th></th>\n",
       "      <th></th>\n",
       "    </tr>\n",
       "  </thead>\n",
       "  <tbody>\n",
       "    <tr>\n",
       "      <th>2021-09-24</th>\n",
       "      <td>67.856331</td>\n",
       "      <td>16.192118</td>\n",
       "      <td>10.933353</td>\n",
       "      <td>10.406394</td>\n",
       "      <td>29.428259</td>\n",
       "      <td>93.750877</td>\n",
       "      <td>118.585464</td>\n",
       "      <td>9.241753</td>\n",
       "      <td>11.856499</td>\n",
       "      <td>9.964914</td>\n",
       "      <td>...</td>\n",
       "      <td>0</td>\n",
       "      <td>0.0</td>\n",
       "      <td>0</td>\n",
       "      <td>0</td>\n",
       "      <td>0</td>\n",
       "      <td>0</td>\n",
       "      <td>0</td>\n",
       "      <td>0</td>\n",
       "      <td>0</td>\n",
       "      <td>0.0</td>\n",
       "    </tr>\n",
       "    <tr>\n",
       "      <th>2021-09-27</th>\n",
       "      <td>67.020691</td>\n",
       "      <td>16.045715</td>\n",
       "      <td>10.933353</td>\n",
       "      <td>10.416296</td>\n",
       "      <td>29.252872</td>\n",
       "      <td>92.636269</td>\n",
       "      <td>118.859756</td>\n",
       "      <td>9.232275</td>\n",
       "      <td>11.865901</td>\n",
       "      <td>9.955182</td>\n",
       "      <td>...</td>\n",
       "      <td>0</td>\n",
       "      <td>0.0</td>\n",
       "      <td>0</td>\n",
       "      <td>0</td>\n",
       "      <td>0</td>\n",
       "      <td>0</td>\n",
       "      <td>0</td>\n",
       "      <td>0</td>\n",
       "      <td>0</td>\n",
       "      <td>0.0</td>\n",
       "    </tr>\n",
       "    <tr>\n",
       "      <th>2021-09-28</th>\n",
       "      <td>65.170334</td>\n",
       "      <td>15.928593</td>\n",
       "      <td>10.915102</td>\n",
       "      <td>10.416296</td>\n",
       "      <td>28.615936</td>\n",
       "      <td>89.531288</td>\n",
       "      <td>117.076866</td>\n",
       "      <td>9.194360</td>\n",
       "      <td>11.790680</td>\n",
       "      <td>9.955182</td>\n",
       "      <td>...</td>\n",
       "      <td>0</td>\n",
       "      <td>0.0</td>\n",
       "      <td>0</td>\n",
       "      <td>0</td>\n",
       "      <td>0</td>\n",
       "      <td>0</td>\n",
       "      <td>0</td>\n",
       "      <td>0</td>\n",
       "      <td>0</td>\n",
       "      <td>0.0</td>\n",
       "    </tr>\n",
       "    <tr>\n",
       "      <th>2021-09-29</th>\n",
       "      <td>65.110641</td>\n",
       "      <td>15.948112</td>\n",
       "      <td>10.924229</td>\n",
       "      <td>10.416296</td>\n",
       "      <td>28.707615</td>\n",
       "      <td>89.142059</td>\n",
       "      <td>117.479164</td>\n",
       "      <td>9.213316</td>\n",
       "      <td>11.828290</td>\n",
       "      <td>9.964914</td>\n",
       "      <td>...</td>\n",
       "      <td>0</td>\n",
       "      <td>0.0</td>\n",
       "      <td>0</td>\n",
       "      <td>0</td>\n",
       "      <td>0</td>\n",
       "      <td>0</td>\n",
       "      <td>0</td>\n",
       "      <td>0</td>\n",
       "      <td>0</td>\n",
       "      <td>0.0</td>\n",
       "    </tr>\n",
       "    <tr>\n",
       "      <th>2021-09-30</th>\n",
       "      <td>64.284950</td>\n",
       "      <td>15.723629</td>\n",
       "      <td>10.924229</td>\n",
       "      <td>10.416296</td>\n",
       "      <td>28.327934</td>\n",
       "      <td>88.858978</td>\n",
       "      <td>114.964813</td>\n",
       "      <td>9.184882</td>\n",
       "      <td>11.798086</td>\n",
       "      <td>9.976605</td>\n",
       "      <td>...</td>\n",
       "      <td>0</td>\n",
       "      <td>0.0</td>\n",
       "      <td>0</td>\n",
       "      <td>0</td>\n",
       "      <td>0</td>\n",
       "      <td>0</td>\n",
       "      <td>0</td>\n",
       "      <td>0</td>\n",
       "      <td>0</td>\n",
       "      <td>0.0</td>\n",
       "    </tr>\n",
       "  </tbody>\n",
       "</table>\n",
       "<p>5 rows × 60 columns</p>\n",
       "</div>"
      ],
      "text/plain": [
       "            Adj Close                                                         \\\n",
       "                AMAGX      BRIIX      BUFHX      DFAIX      DUSLX      FADTX   \n",
       "Date                                                                           \n",
       "2021-09-24  67.856331  16.192118  10.933353  10.406394  29.428259  93.750877   \n",
       "2021-09-27  67.020691  16.045715  10.933353  10.416296  29.252872  92.636269   \n",
       "2021-09-28  65.170334  15.928593  10.915102  10.416296  28.615936  89.531288   \n",
       "2021-09-29  65.110641  15.948112  10.924229  10.416296  28.707615  89.142059   \n",
       "2021-09-30  64.284950  15.723629  10.924229  10.416296  28.327934  88.858978   \n",
       "\n",
       "                                                       ... Volume              \\\n",
       "                 FSHCX     LMLCX      SOAIX     TSDJX  ...  AMAGX BRIIX BUFHX   \n",
       "Date                                                   ...                      \n",
       "2021-09-24  118.585464  9.241753  11.856499  9.964914  ...      0   0.0     0   \n",
       "2021-09-27  118.859756  9.232275  11.865901  9.955182  ...      0   0.0     0   \n",
       "2021-09-28  117.076866  9.194360  11.790680  9.955182  ...      0   0.0     0   \n",
       "2021-09-29  117.479164  9.213316  11.828290  9.964914  ...      0   0.0     0   \n",
       "2021-09-30  114.964813  9.184882  11.798086  9.976605  ...      0   0.0     0   \n",
       "\n",
       "                                                      \n",
       "           DFAIX DUSLX FADTX FSHCX LMLCX SOAIX TSDJX  \n",
       "Date                                                  \n",
       "2021-09-24     0     0     0     0     0     0   0.0  \n",
       "2021-09-27     0     0     0     0     0     0   0.0  \n",
       "2021-09-28     0     0     0     0     0     0   0.0  \n",
       "2021-09-29     0     0     0     0     0     0   0.0  \n",
       "2021-09-30     0     0     0     0     0     0   0.0  \n",
       "\n",
       "[5 rows x 60 columns]"
      ]
     },
     "execution_count": 2,
     "metadata": {},
     "output_type": "execute_result"
    }
   ],
   "source": [
    "# Read Data\n",
    "Stocks = yf.download(' LMLCX BRIIX SOAIX DFAIX BUFHX FADTX DUSLX FSHCX AMAGX TSDJX ',start='2017-10-01', end='2021-10-01')\n",
    "Stocks.tail()\n"
   ]
  },
  {
   "cell_type": "code",
   "execution_count": 3,
   "metadata": {},
   "outputs": [
    {
     "name": "stdout",
     "output_type": "stream",
     "text": [
      "                AMAGX      BRIIX      BUFHX      DFAIX      DUSLX      FADTX  \\\n",
      "Date                                                                           \n",
      "2017-10-02  28.943457        NaN   8.622600   9.151063  14.896198  33.119770   \n",
      "2017-10-03  29.015100        NaN   8.622600   9.160233  14.929639  33.355347   \n",
      "2017-10-04  29.054897        NaN   8.622600   9.169401  14.954718  33.337223   \n",
      "2017-10-05  29.134501        NaN   8.622600   9.169401  15.013230  33.609043   \n",
      "2017-10-06  29.150421        NaN   8.622600   9.160233  14.996513  33.760056   \n",
      "2017-10-09  29.142460        NaN   8.622600   9.169401  14.988155  33.723816   \n",
      "2017-10-10  29.126543        NaN   8.614990   9.169401  15.021590  33.820465   \n",
      "2017-10-11  29.261864        NaN   8.614990   9.178571  15.046666  33.965431   \n",
      "2017-10-12  29.301666        NaN   8.614990   9.178571  15.055028  34.013756   \n",
      "2017-10-13  29.333509        NaN   8.614990   9.178571  15.080108  34.134563   \n",
      "2017-10-16  29.325548        NaN   8.614990   9.169401  15.088464  34.225166   \n",
      "2017-10-17  29.373312        NaN   8.614990   9.160233  15.130265  34.146645   \n",
      "2017-10-18  29.373312        NaN   8.620336   9.160233  15.163697  34.231213   \n",
      "2017-10-19  29.564354        NaN   8.620336   9.169401  15.172055  34.116444   \n",
      "2017-10-20  29.588236        NaN   8.620336   9.169401  15.238933  34.261414   \n",
      "2017-10-23  29.548435        NaN   8.620336   9.169401  15.197135  34.037914   \n",
      "2017-10-24  29.548435        NaN   8.612699   9.169401  15.205495  34.243286   \n",
      "2017-10-25  29.460871        NaN   8.612699   9.169401  15.138618  33.953346   \n",
      "2017-10-26  29.572317        NaN   8.605062   9.169401  15.163697  34.031879   \n",
      "2017-10-27  29.866846        NaN   8.597429   9.187740  15.280726  34.678200   \n",
      "2017-10-30  29.659874        NaN   8.605062   9.187740  15.205495  34.871498   \n",
      "2017-10-31  29.731520        NaN   8.612699   9.187740  15.230571  35.215805   \n",
      "2017-11-01  29.882763        NaN   8.612699   9.187740  15.238933  35.161438   \n",
      "2017-11-02  29.858883        NaN   8.605062   9.196909  15.222212  35.082916   \n",
      "2017-11-03  30.073811        NaN   8.612699   9.196909  15.272370  35.276207   \n",
      "2017-11-06  30.041971        NaN   8.627972   9.206079  15.264009  35.445339   \n",
      "2017-11-07  30.105650        NaN   8.627972   9.206079  15.280726  35.535950   \n",
      "2017-11-08  30.233015        NaN   8.612699   9.196909  15.339243  35.705086   \n",
      "2017-11-09  29.970329        NaN   8.597429   9.196909  15.264009  35.451382   \n",
      "2017-11-10  29.994211        NaN   8.605062   9.187740  15.280726  35.632595   \n",
      "...               ...        ...        ...        ...        ...        ...   \n",
      "2021-08-19  67.687210  15.853696  10.778694  10.356887  29.326719  90.752045   \n",
      "2021-08-20  68.105034  15.951016  10.796884  10.356887  29.529800  92.078957   \n",
      "2021-08-23  68.811348  15.970479  10.815079  10.366789  29.686726  93.467804   \n",
      "2021-08-24  68.741714  16.009411  10.833269  10.376690  29.640574  93.688950   \n",
      "2021-08-25  68.920784  16.058071  10.842364  10.386591  29.677496  93.786255   \n",
      "2021-08-26  68.731766  16.048338  10.833269  10.386591  29.529800  93.255493   \n",
      "2021-08-27  69.328659  16.291641  10.860556  10.416296  29.742113  94.148949   \n",
      "2021-08-30  69.776321  16.369501  10.878747  10.426197  29.935959  95.263557   \n",
      "2021-08-31  69.467934  16.466820  10.887843  10.416296  29.852884  94.095871   \n",
      "2021-09-01  69.577362  16.671196  10.896941  10.416296  29.825191  94.228561   \n",
      "2021-09-02  69.895706  16.778252  10.915131  10.416296  29.880575  94.343559   \n",
      "2021-09-03  69.995186  16.749054  10.915131  10.426197  29.908268  94.900864   \n",
      "2021-09-07  69.676842  16.593338  10.915131  10.426197  29.695955  95.042404   \n",
      "2021-09-08  69.617157  16.632271  10.915131  10.436098  29.769804  94.202019   \n",
      "2021-09-09  69.209282  16.340303  10.906035  10.446000  29.585184  93.918945   \n",
      "2021-09-10  68.880989  16.145660  10.915131  10.455902  29.492878  92.954727   \n",
      "2021-09-13  68.602440  16.281910  10.924229  10.446000  29.483646  92.830879   \n",
      "2021-09-14  68.582550  16.252716  10.915131  10.436098  29.326719  92.680496   \n",
      "2021-09-15  68.930733  16.301374  10.933322  10.446000  29.511337  93.467804   \n",
      "2021-09-16  68.841194  16.320839  10.924229  10.436098  29.511337  93.733177   \n",
      "2021-09-17  67.955811  16.174858  10.924229  10.426197  29.215948  92.653954   \n",
      "2021-09-20  66.881416  16.067802  10.896849  10.426197  28.828249  90.698967   \n",
      "2021-09-21  67.060486  16.067802  10.896849  10.426197  28.828249  91.176659   \n",
      "2021-09-22  67.438507  16.281910  10.924229  10.406394  29.086714  92.459343   \n",
      "2021-09-23  68.095085  16.328760  10.933353  10.406394  29.409800  93.742027   \n",
      "2021-09-24  67.856331  16.192118  10.933353  10.406394  29.428259  93.750877   \n",
      "2021-09-27  67.020691  16.045715  10.933353  10.416296  29.252872  92.636269   \n",
      "2021-09-28  65.170334  15.928593  10.915102  10.416296  28.615936  89.531288   \n",
      "2021-09-29  65.110641  15.948112  10.924229  10.416296  28.707615  89.142059   \n",
      "2021-09-30  64.284950  15.723629  10.924229  10.416296  28.327934  88.858978   \n",
      "\n",
      "                 FSHCX     LMLCX      SOAIX     TSDJX  \n",
      "Date                                                   \n",
      "2017-10-02   65.996750  8.032633   9.600884       NaN  \n",
      "2017-10-03   66.326370  8.040752   9.608861       NaN  \n",
      "2017-10-04   66.269058  8.040752   9.616838       NaN  \n",
      "2017-10-05   65.982414  8.040752   9.608861       NaN  \n",
      "2017-10-06   65.738777  8.040752   9.592913       NaN  \n",
      "2017-10-09   64.384445  8.040752   9.592913       NaN  \n",
      "2017-10-10   63.940166  8.040752   9.600884       NaN  \n",
      "2017-10-11   64.040489  8.040752   9.608861       NaN  \n",
      "2017-10-12   63.703705  8.032633   9.616838       NaN  \n",
      "2017-10-13   62.951294  8.040752   9.640758       NaN  \n",
      "2017-10-16   62.944126  8.040752   9.632781       NaN  \n",
      "2017-10-17   64.434608  8.016387   9.632781       NaN  \n",
      "2017-10-18   64.864548  8.024508   9.608861       NaN  \n",
      "2017-10-19   65.258659  8.024508   9.624809       NaN  \n",
      "2017-10-20   66.226059  8.032633   9.584938       NaN  \n",
      "2017-10-23   66.197388  8.032633   9.584938       NaN  \n",
      "2017-10-24   66.118553  8.040752   9.561019       NaN  \n",
      "2017-10-25   66.018242  8.032633   9.529118       NaN  \n",
      "2017-10-26   66.104233  8.032633   9.529118       NaN  \n",
      "2017-10-27   66.670334  8.040752   9.553041       NaN  \n",
      "2017-10-30   65.760277  8.048874   9.584938       NaN  \n",
      "2017-10-31   65.982414  8.040752   9.620151       NaN  \n",
      "2017-11-01   65.502319  8.040752   9.636161       NaN  \n",
      "2017-11-02   65.824760  8.032633   9.636161       NaN  \n",
      "2017-11-03   66.476860  8.024508   9.644163       NaN  \n",
      "2017-11-06   66.218880  8.024508   9.660172       NaN  \n",
      "2017-11-07   66.226059  8.008265   9.668176       NaN  \n",
      "2017-11-08   65.652786  8.008265   9.660172       NaN  \n",
      "2017-11-09   65.624123  8.000140   9.644163       NaN  \n",
      "2017-11-10   65.358994  7.992022   9.596142       NaN  \n",
      "...                ...       ...        ...       ...  \n",
      "2021-08-19  118.896324  9.131116  11.872671  9.971725  \n",
      "2021-08-20  119.929497  9.150021  11.891414  9.971725  \n",
      "2021-08-23  119.975212  9.150021  11.910155  9.971725  \n",
      "2021-08-24  120.249504  9.159473  11.900786  9.962008  \n",
      "2021-08-25  119.947784  9.178376  11.882043  9.962008  \n",
      "2021-08-26  119.124901  9.178376  11.872671  9.962008  \n",
      "2021-08-27  120.478088  9.197282  11.910155  9.971725  \n",
      "2021-08-30  120.487221  9.206738  11.928895  9.971725  \n",
      "2021-08-31  121.191238  9.206738  11.912911  9.984376  \n",
      "2021-09-01  121.474670  9.206738  11.912911  9.984376  \n",
      "2021-09-02  123.659866  9.216187  11.941120  9.984376  \n",
      "2021-09-03  123.449577  9.206738  11.922314  9.984376  \n",
      "2021-09-07  122.599266  9.206738  11.884706  9.984376  \n",
      "2021-09-08  121.282661  9.206738  11.894107  9.984376  \n",
      "2021-09-09  121.300949  9.216187  11.903509  9.984376  \n",
      "2021-09-10  118.951195  9.225640  11.875303  9.984376  \n",
      "2021-09-13  120.752380  9.225640  11.903509  9.984376  \n",
      "2021-09-14  119.216339  9.225640  11.894107  9.984376  \n",
      "2021-09-15  120.441505  9.232275  11.922314  9.984376  \n",
      "2021-09-16  120.487221  9.232275  11.903509  9.974648  \n",
      "2021-09-17  121.492966  9.232275  11.884706  9.974648  \n",
      "2021-09-20  119.435776  9.203837  11.875303  9.974648  \n",
      "2021-09-21  119.408348  9.213316  11.875303  9.974648  \n",
      "2021-09-22  119.335205  9.241753  11.922314  9.974648  \n",
      "2021-09-23  119.216339  9.222796  11.884706  9.964914  \n",
      "2021-09-24  118.585464  9.241753  11.856499  9.964914  \n",
      "2021-09-27  118.859756  9.232275  11.865901  9.955182  \n",
      "2021-09-28  117.076866  9.194360  11.790680  9.955182  \n",
      "2021-09-29  117.479164  9.213316  11.828290  9.964914  \n",
      "2021-09-30  114.964813  9.184882  11.798086  9.976605  \n",
      "\n",
      "[1007 rows x 10 columns]\n"
     ]
    }
   ],
   "source": [
    "#Closing price\n",
    "Stocks = Stocks['Adj Close']\n",
    "print (Stocks)"
   ]
  },
  {
   "cell_type": "code",
   "execution_count": 4,
   "metadata": {},
   "outputs": [
    {
     "data": {
      "image/png": "[encoded data removed]",
      "text/plain": [
       "<Figure size 720x504 with 1 Axes>"
      ]
     },
     "metadata": {
      "needs_background": "light"
     },
     "output_type": "display_data"
    }
   ],
   "source": [
    "# Plot the adjusted close price\n",
    "Stocks.plot(figsize=(10, 7))\n",
    "# Define the label for the title of the figure\n",
    "plt.title(\"Adjusted Close Price of Mutual funds\" % Stocks, fontsize=16)\n",
    "# Define the labels for x-axis and y-axis\n",
    "plt.ylabel('Adj Close Price', fontsize=14)\n",
    "plt.xlabel('Year', fontsize=14)\n",
    "# Plot the grid lines\n",
    "plt.grid(which=\"major\", color='k', linestyle='-.', linewidth=0.5)\n",
    "# Show the plot\n",
    "plt.show()"
   ]
  },
  {
   "cell_type": "code",
   "execution_count": 5,
   "metadata": {},
   "outputs": [
    {
     "data": {
      "text/html": [
       "<div>\n",
       "<style scoped>\n",
       "    .dataframe tbody tr th:only-of-type {\n",
       "        vertical-align: middle;\n",
       "    }\n",
       "\n",
       "    .dataframe tbody tr th {\n",
       "        vertical-align: top;\n",
       "    }\n",
       "\n",
       "    .dataframe thead th {\n",
       "        text-align: right;\n",
       "    }\n",
       "</style>\n",
       "<table border=\"1\" class=\"dataframe\">\n",
       "  <thead>\n",
       "    <tr style=\"text-align: right;\">\n",
       "      <th></th>\n",
       "      <th>AMAGX</th>\n",
       "      <th>BRIIX</th>\n",
       "      <th>BUFHX</th>\n",
       "      <th>DFAIX</th>\n",
       "      <th>DUSLX</th>\n",
       "      <th>FADTX</th>\n",
       "      <th>FSHCX</th>\n",
       "      <th>LMLCX</th>\n",
       "      <th>SOAIX</th>\n",
       "      <th>TSDJX</th>\n",
       "    </tr>\n",
       "    <tr>\n",
       "      <th>Date</th>\n",
       "      <th></th>\n",
       "      <th></th>\n",
       "      <th></th>\n",
       "      <th></th>\n",
       "      <th></th>\n",
       "      <th></th>\n",
       "      <th></th>\n",
       "      <th></th>\n",
       "      <th></th>\n",
       "      <th></th>\n",
       "    </tr>\n",
       "  </thead>\n",
       "  <tbody>\n",
       "    <tr>\n",
       "      <th>2017-10-02</th>\n",
       "      <td>NaN</td>\n",
       "      <td>NaN</td>\n",
       "      <td>NaN</td>\n",
       "      <td>NaN</td>\n",
       "      <td>NaN</td>\n",
       "      <td>NaN</td>\n",
       "      <td>NaN</td>\n",
       "      <td>NaN</td>\n",
       "      <td>NaN</td>\n",
       "      <td>NaN</td>\n",
       "    </tr>\n",
       "    <tr>\n",
       "      <th>2017-10-03</th>\n",
       "      <td>0.002472</td>\n",
       "      <td>NaN</td>\n",
       "      <td>0.0</td>\n",
       "      <td>0.001002</td>\n",
       "      <td>0.002242</td>\n",
       "      <td>0.007088</td>\n",
       "      <td>0.004982</td>\n",
       "      <td>0.00101</td>\n",
       "      <td>0.000830</td>\n",
       "      <td>NaN</td>\n",
       "    </tr>\n",
       "    <tr>\n",
       "      <th>2017-10-04</th>\n",
       "      <td>0.001371</td>\n",
       "      <td>NaN</td>\n",
       "      <td>0.0</td>\n",
       "      <td>0.001000</td>\n",
       "      <td>0.001678</td>\n",
       "      <td>-0.000543</td>\n",
       "      <td>-0.000864</td>\n",
       "      <td>0.00000</td>\n",
       "      <td>0.000830</td>\n",
       "      <td>NaN</td>\n",
       "    </tr>\n",
       "    <tr>\n",
       "      <th>2017-10-05</th>\n",
       "      <td>0.002736</td>\n",
       "      <td>NaN</td>\n",
       "      <td>0.0</td>\n",
       "      <td>0.000000</td>\n",
       "      <td>0.003905</td>\n",
       "      <td>0.008121</td>\n",
       "      <td>-0.004335</td>\n",
       "      <td>0.00000</td>\n",
       "      <td>-0.000830</td>\n",
       "      <td>NaN</td>\n",
       "    </tr>\n",
       "    <tr>\n",
       "      <th>2017-10-06</th>\n",
       "      <td>0.000546</td>\n",
       "      <td>NaN</td>\n",
       "      <td>0.0</td>\n",
       "      <td>-0.001000</td>\n",
       "      <td>-0.001114</td>\n",
       "      <td>0.004483</td>\n",
       "      <td>-0.003699</td>\n",
       "      <td>0.00000</td>\n",
       "      <td>-0.001661</td>\n",
       "      <td>NaN</td>\n",
       "    </tr>\n",
       "  </tbody>\n",
       "</table>\n",
       "</div>"
      ],
      "text/plain": [
       "               AMAGX  BRIIX  BUFHX     DFAIX     DUSLX     FADTX     FSHCX  \\\n",
       "Date                                                                         \n",
       "2017-10-02       NaN    NaN    NaN       NaN       NaN       NaN       NaN   \n",
       "2017-10-03  0.002472    NaN    0.0  0.001002  0.002242  0.007088  0.004982   \n",
       "2017-10-04  0.001371    NaN    0.0  0.001000  0.001678 -0.000543 -0.000864   \n",
       "2017-10-05  0.002736    NaN    0.0  0.000000  0.003905  0.008121 -0.004335   \n",
       "2017-10-06  0.000546    NaN    0.0 -0.001000 -0.001114  0.004483 -0.003699   \n",
       "\n",
       "              LMLCX     SOAIX  TSDJX  \n",
       "Date                                  \n",
       "2017-10-02      NaN       NaN    NaN  \n",
       "2017-10-03  0.00101  0.000830    NaN  \n",
       "2017-10-04  0.00000  0.000830    NaN  \n",
       "2017-10-05  0.00000 -0.000830    NaN  \n",
       "2017-10-06  0.00000 -0.001661    NaN  "
      ]
     },
     "execution_count": 5,
     "metadata": {},
     "output_type": "execute_result"
    }
   ],
   "source": [
    "# Log of percentage change of all stocks in the list \n",
    "Ret= Stocks.pct_change().apply(lambda x: np.log(1+x)) # CONVERT TO RETURN\n",
    "Ret.head()\n"
   ]
  },
  {
   "cell_type": "code",
   "execution_count": 6,
   "metadata": {},
   "outputs": [
    {
     "data": {
      "text/plain": [
       "<matplotlib.axes._subplots.AxesSubplot at 0x1a023c12588>"
      ]
     },
     "execution_count": 6,
     "metadata": {},
     "output_type": "execute_result"
    },
    {
     "data": {
      "image/png": "[encoded data removed]",
      "text/plain": [
       "<Figure size 432x288 with 1 Axes>"
      ]
     },
     "metadata": {
      "needs_background": "light"
     },
     "output_type": "display_data"
    }
   ],
   "source": [
    "Ret.plot(title='Mutual funds daily returns')"
   ]
  },
  {
   "cell_type": "markdown",
   "metadata": {},
   "source": [
    "# Calculating the Mean, standard deviation and other stats"
   ]
  },
  {
   "cell_type": "code",
   "execution_count": 7,
   "metadata": {},
   "outputs": [
    {
     "name": "stdout",
     "output_type": "stream",
     "text": [
      "AMAGX    0.199892\n",
      "BRIIX    0.142523\n",
      "BUFHX    0.059267\n",
      "DFAIX    0.032440\n",
      "DUSLX    0.161005\n",
      "FADTX    0.247221\n",
      "FSHCX    0.139031\n",
      "LMLCX    0.033578\n",
      "SOAIX    0.051623\n",
      "TSDJX    0.036410\n",
      "dtype: float64\n"
     ]
    }
   ],
   "source": [
    "Ann_Ret = Ret.mean()*252\n",
    "print (Ann_Ret)\n"
   ]
  },
  {
   "cell_type": "code",
   "execution_count": 8,
   "metadata": {},
   "outputs": [
    {
     "name": "stdout",
     "output_type": "stream",
     "text": [
      "AMAGX    0.201626\n",
      "BRIIX    0.230936\n",
      "BUFHX    0.050823\n",
      "DFAIX    0.017310\n",
      "DUSLX    0.195781\n",
      "FADTX    0.271983\n",
      "FSHCX    0.258019\n",
      "LMLCX    0.072555\n",
      "SOAIX    0.050347\n",
      "TSDJX    0.020847\n",
      "dtype: float64\n"
     ]
    }
   ],
   "source": [
    "Ann_Risk = Ret.std()*(252)**(0.5)\n",
    "print(Ann_Risk)\n"
   ]
  },
  {
   "cell_type": "markdown",
   "metadata": {},
   "source": [
    "# Calculating the correlation and covariance using pandas"
   ]
  },
  {
   "cell_type": "code",
   "execution_count": 9,
   "metadata": {},
   "outputs": [
    {
     "name": "stdout",
     "output_type": "stream",
     "text": [
      "          AMAGX     BRIIX     BUFHX     DFAIX     DUSLX     FADTX     FSHCX  \\\n",
      "AMAGX  1.000000  0.793576  0.634544  0.159876  0.892877  0.940757  0.754654   \n",
      "BRIIX  0.793576  1.000000  0.698963  0.209765  0.704101  0.725291  0.722817   \n",
      "BUFHX  0.634544  0.698963  1.000000  0.493197  0.618620  0.591703  0.588780   \n",
      "DFAIX  0.159876  0.209765  0.493197  1.000000  0.279097  0.137739  0.165662   \n",
      "DUSLX  0.892877  0.704101  0.618620  0.279097  1.000000  0.842837  0.699406   \n",
      "FADTX  0.940757  0.725291  0.591703  0.137739  0.842837  1.000000  0.669596   \n",
      "FSHCX  0.754654  0.722817  0.588780  0.165662  0.699406  0.669596  1.000000   \n",
      "LMLCX  0.550490  0.623646  0.807958  0.504160  0.545067  0.492294  0.515466   \n",
      "SOAIX  0.390475  0.523271  0.650436  0.494918  0.428786  0.348089  0.393637   \n",
      "TSDJX  0.033570  0.076667  0.367776  0.487502  0.109892  0.014934  0.051372   \n",
      "\n",
      "          LMLCX     SOAIX     TSDJX  \n",
      "AMAGX  0.550490  0.390475  0.033570  \n",
      "BRIIX  0.623646  0.523271  0.076667  \n",
      "BUFHX  0.807958  0.650436  0.367776  \n",
      "DFAIX  0.504160  0.494918  0.487502  \n",
      "DUSLX  0.545067  0.428786  0.109892  \n",
      "FADTX  0.492294  0.348089  0.014934  \n",
      "FSHCX  0.515466  0.393637  0.051372  \n",
      "LMLCX  1.000000  0.565666  0.315008  \n",
      "SOAIX  0.565666  1.000000  0.574921  \n",
      "TSDJX  0.315008  0.574921  1.000000  \n"
     ]
    }
   ],
   "source": [
    "Ret_Corr = Ret.corr()\n",
    "print(Ret_Corr)\n"
   ]
  },
  {
   "cell_type": "code",
   "execution_count": 10,
   "metadata": {},
   "outputs": [
    {
     "name": "stdout",
     "output_type": "stream",
     "text": [
      "              AMAGX     BRIIX     BUFHX         DFAIX     DUSLX         FADTX  \\\n",
      "AMAGX  1.613209e-04  0.000151  0.000026  2.214310e-06  0.000140  2.047216e-04   \n",
      "BRIIX  1.508242e-04  0.000212  0.000034  3.384026e-06  0.000130  1.853378e-04   \n",
      "BUFHX  2.580271e-05  0.000034  0.000010  1.721821e-06  0.000024  3.245660e-05   \n",
      "DFAIX  2.214310e-06  0.000003  0.000002  1.189101e-06  0.000004  2.573404e-06   \n",
      "DUSLX  1.398642e-04  0.000130  0.000024  3.753482e-06  0.000152  1.780961e-04   \n",
      "FADTX  2.047216e-04  0.000185  0.000032  2.573404e-06  0.000178  2.935498e-04   \n",
      "FSHCX  1.557919e-04  0.000175  0.000031  2.936183e-06  0.000140  1.864683e-04   \n",
      "LMLCX  3.195667e-05  0.000043  0.000012  2.512720e-06  0.000031  3.855066e-05   \n",
      "SOAIX  1.572933e-05  0.000025  0.000007  1.711646e-06  0.000017  1.891484e-05   \n",
      "TSDJX  6.088567e-07  0.000002  0.000002  7.680133e-07  0.000002  3.631739e-07   \n",
      "\n",
      "          FSHCX     LMLCX     SOAIX         TSDJX  \n",
      "AMAGX  0.000156  0.000032  0.000016  6.088567e-07  \n",
      "BRIIX  0.000175  0.000043  0.000025  1.613525e-06  \n",
      "BUFHX  0.000031  0.000012  0.000007  1.795523e-06  \n",
      "DFAIX  0.000003  0.000003  0.000002  7.680133e-07  \n",
      "DUSLX  0.000140  0.000031  0.000017  1.946156e-06  \n",
      "FADTX  0.000186  0.000039  0.000019  3.631739e-07  \n",
      "FSHCX  0.000264  0.000038  0.000020  1.226266e-06  \n",
      "LMLCX  0.000038  0.000021  0.000008  2.193282e-06  \n",
      "SOAIX  0.000020  0.000008  0.000010  2.645527e-06  \n",
      "TSDJX  0.000001  0.000002  0.000003  1.724659e-06  \n"
     ]
    }
   ],
   "source": [
    "Ret_Covar = Ret.cov()\n",
    "print(Ret_Covar)"
   ]
  },
  {
   "cell_type": "markdown",
   "metadata": {},
   "source": [
    "# CREATE PORTFOLIO- 10 stocks for mthe original list of best performers."
   ]
  },
  {
   "cell_type": "code",
   "execution_count": 11,
   "metadata": {},
   "outputs": [
    {
     "name": "stdout",
     "output_type": "stream",
     "text": [
      "[*********************100%***********************]  5 of 5 completed\n"
     ]
    },
    {
     "data": {
      "text/html": [
       "<div>\n",
       "<style scoped>\n",
       "    .dataframe tbody tr th:only-of-type {\n",
       "        vertical-align: middle;\n",
       "    }\n",
       "\n",
       "    .dataframe tbody tr th {\n",
       "        vertical-align: top;\n",
       "    }\n",
       "\n",
       "    .dataframe thead tr th {\n",
       "        text-align: left;\n",
       "    }\n",
       "\n",
       "    .dataframe thead tr:last-of-type th {\n",
       "        text-align: right;\n",
       "    }\n",
       "</style>\n",
       "<table border=\"1\" class=\"dataframe\">\n",
       "  <thead>\n",
       "    <tr>\n",
       "      <th></th>\n",
       "      <th colspan=\"5\" halign=\"left\">Adj Close</th>\n",
       "      <th colspan=\"5\" halign=\"left\">Close</th>\n",
       "      <th>...</th>\n",
       "      <th colspan=\"5\" halign=\"left\">Open</th>\n",
       "      <th colspan=\"5\" halign=\"left\">Volume</th>\n",
       "    </tr>\n",
       "    <tr>\n",
       "      <th></th>\n",
       "      <th>BRIIX</th>\n",
       "      <th>BUFHX</th>\n",
       "      <th>DFAIX</th>\n",
       "      <th>LMLCX</th>\n",
       "      <th>SOAIX</th>\n",
       "      <th>BRIIX</th>\n",
       "      <th>BUFHX</th>\n",
       "      <th>DFAIX</th>\n",
       "      <th>LMLCX</th>\n",
       "      <th>SOAIX</th>\n",
       "      <th>...</th>\n",
       "      <th>BRIIX</th>\n",
       "      <th>BUFHX</th>\n",
       "      <th>DFAIX</th>\n",
       "      <th>LMLCX</th>\n",
       "      <th>SOAIX</th>\n",
       "      <th>BRIIX</th>\n",
       "      <th>BUFHX</th>\n",
       "      <th>DFAIX</th>\n",
       "      <th>LMLCX</th>\n",
       "      <th>SOAIX</th>\n",
       "    </tr>\n",
       "    <tr>\n",
       "      <th>Date</th>\n",
       "      <th></th>\n",
       "      <th></th>\n",
       "      <th></th>\n",
       "      <th></th>\n",
       "      <th></th>\n",
       "      <th></th>\n",
       "      <th></th>\n",
       "      <th></th>\n",
       "      <th></th>\n",
       "      <th></th>\n",
       "      <th></th>\n",
       "      <th></th>\n",
       "      <th></th>\n",
       "      <th></th>\n",
       "      <th></th>\n",
       "      <th></th>\n",
       "      <th></th>\n",
       "      <th></th>\n",
       "      <th></th>\n",
       "      <th></th>\n",
       "      <th></th>\n",
       "    </tr>\n",
       "  </thead>\n",
       "  <tbody>\n",
       "    <tr>\n",
       "      <th>2021-09-24</th>\n",
       "      <td>16.192118</td>\n",
       "      <td>10.933352</td>\n",
       "      <td>10.406394</td>\n",
       "      <td>9.241755</td>\n",
       "      <td>11.856498</td>\n",
       "      <td>16.590000</td>\n",
       "      <td>11.98</td>\n",
       "      <td>10.51</td>\n",
       "      <td>9.75</td>\n",
       "      <td>12.61</td>\n",
       "      <td>...</td>\n",
       "      <td>16.590000</td>\n",
       "      <td>11.98</td>\n",
       "      <td>10.51</td>\n",
       "      <td>9.75</td>\n",
       "      <td>12.61</td>\n",
       "      <td>0.0</td>\n",
       "      <td>0</td>\n",
       "      <td>0</td>\n",
       "      <td>0</td>\n",
       "      <td>0</td>\n",
       "    </tr>\n",
       "    <tr>\n",
       "      <th>2021-09-27</th>\n",
       "      <td>16.045715</td>\n",
       "      <td>10.933352</td>\n",
       "      <td>10.416296</td>\n",
       "      <td>9.232276</td>\n",
       "      <td>11.865900</td>\n",
       "      <td>16.440001</td>\n",
       "      <td>11.98</td>\n",
       "      <td>10.52</td>\n",
       "      <td>9.74</td>\n",
       "      <td>12.62</td>\n",
       "      <td>...</td>\n",
       "      <td>16.440001</td>\n",
       "      <td>11.98</td>\n",
       "      <td>10.52</td>\n",
       "      <td>9.74</td>\n",
       "      <td>12.62</td>\n",
       "      <td>0.0</td>\n",
       "      <td>0</td>\n",
       "      <td>0</td>\n",
       "      <td>0</td>\n",
       "      <td>0</td>\n",
       "    </tr>\n",
       "    <tr>\n",
       "      <th>2021-09-28</th>\n",
       "      <td>15.928592</td>\n",
       "      <td>10.915101</td>\n",
       "      <td>10.416296</td>\n",
       "      <td>9.194361</td>\n",
       "      <td>11.790682</td>\n",
       "      <td>16.320000</td>\n",
       "      <td>11.96</td>\n",
       "      <td>10.52</td>\n",
       "      <td>9.70</td>\n",
       "      <td>12.54</td>\n",
       "      <td>...</td>\n",
       "      <td>16.320000</td>\n",
       "      <td>11.96</td>\n",
       "      <td>10.52</td>\n",
       "      <td>9.70</td>\n",
       "      <td>12.54</td>\n",
       "      <td>0.0</td>\n",
       "      <td>0</td>\n",
       "      <td>0</td>\n",
       "      <td>0</td>\n",
       "      <td>0</td>\n",
       "    </tr>\n",
       "    <tr>\n",
       "      <th>2021-09-29</th>\n",
       "      <td>15.948112</td>\n",
       "      <td>10.924228</td>\n",
       "      <td>10.416296</td>\n",
       "      <td>9.213317</td>\n",
       "      <td>11.828290</td>\n",
       "      <td>16.340000</td>\n",
       "      <td>11.97</td>\n",
       "      <td>10.52</td>\n",
       "      <td>9.72</td>\n",
       "      <td>12.58</td>\n",
       "      <td>...</td>\n",
       "      <td>16.340000</td>\n",
       "      <td>11.97</td>\n",
       "      <td>10.52</td>\n",
       "      <td>9.72</td>\n",
       "      <td>12.58</td>\n",
       "      <td>0.0</td>\n",
       "      <td>0</td>\n",
       "      <td>0</td>\n",
       "      <td>0</td>\n",
       "      <td>0</td>\n",
       "    </tr>\n",
       "    <tr>\n",
       "      <th>2021-09-30</th>\n",
       "      <td>15.723631</td>\n",
       "      <td>10.924228</td>\n",
       "      <td>10.416296</td>\n",
       "      <td>9.184881</td>\n",
       "      <td>11.798086</td>\n",
       "      <td>16.110001</td>\n",
       "      <td>11.97</td>\n",
       "      <td>10.52</td>\n",
       "      <td>9.69</td>\n",
       "      <td>12.50</td>\n",
       "      <td>...</td>\n",
       "      <td>16.110001</td>\n",
       "      <td>11.97</td>\n",
       "      <td>10.52</td>\n",
       "      <td>9.69</td>\n",
       "      <td>12.50</td>\n",
       "      <td>0.0</td>\n",
       "      <td>0</td>\n",
       "      <td>0</td>\n",
       "      <td>0</td>\n",
       "      <td>0</td>\n",
       "    </tr>\n",
       "  </tbody>\n",
       "</table>\n",
       "<p>5 rows × 30 columns</p>\n",
       "</div>"
      ],
      "text/plain": [
       "            Adj Close                                                 Close  \\\n",
       "                BRIIX      BUFHX      DFAIX     LMLCX      SOAIX      BRIIX   \n",
       "Date                                                                          \n",
       "2021-09-24  16.192118  10.933352  10.406394  9.241755  11.856498  16.590000   \n",
       "2021-09-27  16.045715  10.933352  10.416296  9.232276  11.865900  16.440001   \n",
       "2021-09-28  15.928592  10.915101  10.416296  9.194361  11.790682  16.320000   \n",
       "2021-09-29  15.948112  10.924228  10.416296  9.213317  11.828290  16.340000   \n",
       "2021-09-30  15.723631  10.924228  10.416296  9.184881  11.798086  16.110001   \n",
       "\n",
       "                                       ...       Open                      \\\n",
       "            BUFHX  DFAIX LMLCX  SOAIX  ...      BRIIX  BUFHX  DFAIX LMLCX   \n",
       "Date                                   ...                                  \n",
       "2021-09-24  11.98  10.51  9.75  12.61  ...  16.590000  11.98  10.51  9.75   \n",
       "2021-09-27  11.98  10.52  9.74  12.62  ...  16.440001  11.98  10.52  9.74   \n",
       "2021-09-28  11.96  10.52  9.70  12.54  ...  16.320000  11.96  10.52  9.70   \n",
       "2021-09-29  11.97  10.52  9.72  12.58  ...  16.340000  11.97  10.52  9.72   \n",
       "2021-09-30  11.97  10.52  9.69  12.50  ...  16.110001  11.97  10.52  9.69   \n",
       "\n",
       "                  Volume                          \n",
       "            SOAIX  BRIIX BUFHX DFAIX LMLCX SOAIX  \n",
       "Date                                              \n",
       "2021-09-24  12.61    0.0     0     0     0     0  \n",
       "2021-09-27  12.62    0.0     0     0     0     0  \n",
       "2021-09-28  12.54    0.0     0     0     0     0  \n",
       "2021-09-29  12.58    0.0     0     0     0     0  \n",
       "2021-09-30  12.50    0.0     0     0     0     0  \n",
       "\n",
       "[5 rows x 30 columns]"
      ]
     },
     "execution_count": 11,
     "metadata": {},
     "output_type": "execute_result"
    }
   ],
   "source": [
    "# Import data\n",
    "df = yf.download('LMLCX BRIIX SOAIX DFAIX BUFHX',start='2017-10-01', end='2021-10-01')\n",
    "df.tail()\n"
   ]
  },
  {
   "cell_type": "code",
   "execution_count": 12,
   "metadata": {},
   "outputs": [
    {
     "data": {
      "text/html": [
       "<div>\n",
       "<style scoped>\n",
       "    .dataframe tbody tr th:only-of-type {\n",
       "        vertical-align: middle;\n",
       "    }\n",
       "\n",
       "    .dataframe tbody tr th {\n",
       "        vertical-align: top;\n",
       "    }\n",
       "\n",
       "    .dataframe thead th {\n",
       "        text-align: right;\n",
       "    }\n",
       "</style>\n",
       "<table border=\"1\" class=\"dataframe\">\n",
       "  <thead>\n",
       "    <tr style=\"text-align: right;\">\n",
       "      <th></th>\n",
       "      <th>BRIIX</th>\n",
       "      <th>BUFHX</th>\n",
       "      <th>DFAIX</th>\n",
       "      <th>LMLCX</th>\n",
       "      <th>SOAIX</th>\n",
       "    </tr>\n",
       "    <tr>\n",
       "      <th>Date</th>\n",
       "      <th></th>\n",
       "      <th></th>\n",
       "      <th></th>\n",
       "      <th></th>\n",
       "      <th></th>\n",
       "    </tr>\n",
       "  </thead>\n",
       "  <tbody>\n",
       "    <tr>\n",
       "      <th>2017-10-02</th>\n",
       "      <td>NaN</td>\n",
       "      <td>8.622602</td>\n",
       "      <td>9.151062</td>\n",
       "      <td>8.032630</td>\n",
       "      <td>9.600887</td>\n",
       "    </tr>\n",
       "    <tr>\n",
       "      <th>2017-10-03</th>\n",
       "      <td>NaN</td>\n",
       "      <td>8.622602</td>\n",
       "      <td>9.160233</td>\n",
       "      <td>8.040752</td>\n",
       "      <td>9.608862</td>\n",
       "    </tr>\n",
       "    <tr>\n",
       "      <th>2017-10-04</th>\n",
       "      <td>NaN</td>\n",
       "      <td>8.622602</td>\n",
       "      <td>9.169400</td>\n",
       "      <td>8.040752</td>\n",
       "      <td>9.616837</td>\n",
       "    </tr>\n",
       "    <tr>\n",
       "      <th>2017-10-05</th>\n",
       "      <td>NaN</td>\n",
       "      <td>8.622602</td>\n",
       "      <td>9.169400</td>\n",
       "      <td>8.040752</td>\n",
       "      <td>9.608862</td>\n",
       "    </tr>\n",
       "    <tr>\n",
       "      <th>2017-10-06</th>\n",
       "      <td>NaN</td>\n",
       "      <td>8.622602</td>\n",
       "      <td>9.160233</td>\n",
       "      <td>8.040752</td>\n",
       "      <td>9.592913</td>\n",
       "    </tr>\n",
       "  </tbody>\n",
       "</table>\n",
       "</div>"
      ],
      "text/plain": [
       "            BRIIX     BUFHX     DFAIX     LMLCX     SOAIX\n",
       "Date                                                     \n",
       "2017-10-02    NaN  8.622602  9.151062  8.032630  9.600887\n",
       "2017-10-03    NaN  8.622602  9.160233  8.040752  9.608862\n",
       "2017-10-04    NaN  8.622602  9.169400  8.040752  9.616837\n",
       "2017-10-05    NaN  8.622602  9.169400  8.040752  9.608862\n",
       "2017-10-06    NaN  8.622602  9.160233  8.040752  9.592913"
      ]
     },
     "execution_count": 12,
     "metadata": {},
     "output_type": "execute_result"
    }
   ],
   "source": [
    "# Closing price\n",
    "df = df['Adj Close']\n",
    "df.head()\n"
   ]
  },
  {
   "cell_type": "code",
   "execution_count": 13,
   "metadata": {},
   "outputs": [
    {
     "data": {
      "text/html": [
       "<div>\n",
       "<style scoped>\n",
       "    .dataframe tbody tr th:only-of-type {\n",
       "        vertical-align: middle;\n",
       "    }\n",
       "\n",
       "    .dataframe tbody tr th {\n",
       "        vertical-align: top;\n",
       "    }\n",
       "\n",
       "    .dataframe thead th {\n",
       "        text-align: right;\n",
       "    }\n",
       "</style>\n",
       "<table border=\"1\" class=\"dataframe\">\n",
       "  <thead>\n",
       "    <tr style=\"text-align: right;\">\n",
       "      <th></th>\n",
       "      <th>BRIIX</th>\n",
       "      <th>BUFHX</th>\n",
       "      <th>DFAIX</th>\n",
       "      <th>LMLCX</th>\n",
       "      <th>SOAIX</th>\n",
       "    </tr>\n",
       "  </thead>\n",
       "  <tbody>\n",
       "    <tr>\n",
       "      <th>BRIIX</th>\n",
       "      <td>0.000212</td>\n",
       "      <td>0.000034</td>\n",
       "      <td>0.000003</td>\n",
       "      <td>0.000043</td>\n",
       "      <td>0.000025</td>\n",
       "    </tr>\n",
       "    <tr>\n",
       "      <th>BUFHX</th>\n",
       "      <td>0.000034</td>\n",
       "      <td>0.000010</td>\n",
       "      <td>0.000002</td>\n",
       "      <td>0.000012</td>\n",
       "      <td>0.000007</td>\n",
       "    </tr>\n",
       "    <tr>\n",
       "      <th>DFAIX</th>\n",
       "      <td>0.000003</td>\n",
       "      <td>0.000002</td>\n",
       "      <td>0.000001</td>\n",
       "      <td>0.000003</td>\n",
       "      <td>0.000002</td>\n",
       "    </tr>\n",
       "    <tr>\n",
       "      <th>LMLCX</th>\n",
       "      <td>0.000043</td>\n",
       "      <td>0.000012</td>\n",
       "      <td>0.000003</td>\n",
       "      <td>0.000021</td>\n",
       "      <td>0.000008</td>\n",
       "    </tr>\n",
       "    <tr>\n",
       "      <th>SOAIX</th>\n",
       "      <td>0.000025</td>\n",
       "      <td>0.000007</td>\n",
       "      <td>0.000002</td>\n",
       "      <td>0.000008</td>\n",
       "      <td>0.000010</td>\n",
       "    </tr>\n",
       "  </tbody>\n",
       "</table>\n",
       "</div>"
      ],
      "text/plain": [
       "          BRIIX     BUFHX     DFAIX     LMLCX     SOAIX\n",
       "BRIIX  0.000212  0.000034  0.000003  0.000043  0.000025\n",
       "BUFHX  0.000034  0.000010  0.000002  0.000012  0.000007\n",
       "DFAIX  0.000003  0.000002  0.000001  0.000003  0.000002\n",
       "LMLCX  0.000043  0.000012  0.000003  0.000021  0.000008\n",
       "SOAIX  0.000025  0.000007  0.000002  0.000008  0.000010"
      ]
     },
     "execution_count": 13,
     "metadata": {},
     "output_type": "execute_result"
    }
   ],
   "source": [
    "# Log of percentage change and creeate Covariance matrix\n",
    "cov_matrix = df.pct_change().apply(lambda x: np.log(1+x)).cov()\n",
    "cov_matrix\n"
   ]
  },
  {
   "cell_type": "code",
   "execution_count": 14,
   "metadata": {},
   "outputs": [
    {
     "data": {
      "text/html": [
       "<div>\n",
       "<style scoped>\n",
       "    .dataframe tbody tr th:only-of-type {\n",
       "        vertical-align: middle;\n",
       "    }\n",
       "\n",
       "    .dataframe tbody tr th {\n",
       "        vertical-align: top;\n",
       "    }\n",
       "\n",
       "    .dataframe thead th {\n",
       "        text-align: right;\n",
       "    }\n",
       "</style>\n",
       "<table border=\"1\" class=\"dataframe\">\n",
       "  <thead>\n",
       "    <tr style=\"text-align: right;\">\n",
       "      <th></th>\n",
       "      <th>BRIIX</th>\n",
       "      <th>BUFHX</th>\n",
       "      <th>DFAIX</th>\n",
       "      <th>LMLCX</th>\n",
       "      <th>SOAIX</th>\n",
       "    </tr>\n",
       "  </thead>\n",
       "  <tbody>\n",
       "    <tr>\n",
       "      <th>BRIIX</th>\n",
       "      <td>1.000000</td>\n",
       "      <td>0.698963</td>\n",
       "      <td>0.209767</td>\n",
       "      <td>0.623645</td>\n",
       "      <td>0.523267</td>\n",
       "    </tr>\n",
       "    <tr>\n",
       "      <th>BUFHX</th>\n",
       "      <td>0.698963</td>\n",
       "      <td>1.000000</td>\n",
       "      <td>0.493198</td>\n",
       "      <td>0.807957</td>\n",
       "      <td>0.650434</td>\n",
       "    </tr>\n",
       "    <tr>\n",
       "      <th>DFAIX</th>\n",
       "      <td>0.209767</td>\n",
       "      <td>0.493198</td>\n",
       "      <td>1.000000</td>\n",
       "      <td>0.504162</td>\n",
       "      <td>0.494916</td>\n",
       "    </tr>\n",
       "    <tr>\n",
       "      <th>LMLCX</th>\n",
       "      <td>0.623645</td>\n",
       "      <td>0.807957</td>\n",
       "      <td>0.504162</td>\n",
       "      <td>1.000000</td>\n",
       "      <td>0.565667</td>\n",
       "    </tr>\n",
       "    <tr>\n",
       "      <th>SOAIX</th>\n",
       "      <td>0.523267</td>\n",
       "      <td>0.650434</td>\n",
       "      <td>0.494916</td>\n",
       "      <td>0.565667</td>\n",
       "      <td>1.000000</td>\n",
       "    </tr>\n",
       "  </tbody>\n",
       "</table>\n",
       "</div>"
      ],
      "text/plain": [
       "          BRIIX     BUFHX     DFAIX     LMLCX     SOAIX\n",
       "BRIIX  1.000000  0.698963  0.209767  0.623645  0.523267\n",
       "BUFHX  0.698963  1.000000  0.493198  0.807957  0.650434\n",
       "DFAIX  0.209767  0.493198  1.000000  0.504162  0.494916\n",
       "LMLCX  0.623645  0.807957  0.504162  1.000000  0.565667\n",
       "SOAIX  0.523267  0.650434  0.494916  0.565667  1.000000"
      ]
     },
     "execution_count": 14,
     "metadata": {},
     "output_type": "execute_result"
    }
   ],
   "source": [
    "corr_matrix = df.pct_change().apply(lambda x: np.log(1+x)).corr()\n",
    "corr_matrix"
   ]
  },
  {
   "cell_type": "code",
   "execution_count": 15,
   "metadata": {},
   "outputs": [
    {
     "data": {
      "image/png": "[encoded data removed]",
      "text/plain": [
       "<Figure size 432x288 with 2 Axes>"
      ]
     },
     "metadata": {
      "needs_background": "light"
     },
     "output_type": "display_data"
    }
   ],
   "source": [
    "# plotting correlation heatmap\n",
    "dataplot = sns.heatmap(corr_matrix, cmap=\"YlGnBu\", annot=True)\n",
    "  \n",
    "# displaying heatmap\n",
    "mp.show()"
   ]
  },
  {
   "cell_type": "code",
   "execution_count": 16,
   "metadata": {},
   "outputs": [
    {
     "name": "stdout",
     "output_type": "stream",
     "text": [
      "1.2013579447263085e-05\n",
      "0.0030274220207102973\n"
     ]
    }
   ],
   "source": [
    "# Randomly weighted portfolio's variance NTES SBAC AMT DXCM ISRG NVDA DECK ODFL ALGN MSFT\n",
    "w = {'LMLCX ':0.20 ,'BRIIX':0.20 , 'SOAIX ':0.20 , 'DFAIX':0.20 ,'BUFHX' :0.20 , }\n",
    "port_var = cov_matrix.mul(w, axis=0).mul(w, axis=1).sum().sum()\n",
    "Ann_port_std = (port_var*252)**(0.5)\n",
    "print (port_var)\n",
    "print (port_var*252)"
   ]
  },
  {
   "cell_type": "code",
   "execution_count": 17,
   "metadata": {},
   "outputs": [
    {
     "data": {
      "text/plain": [
       "0.05502201396450604"
      ]
     },
     "execution_count": 17,
     "metadata": {},
     "output_type": "execute_result"
    }
   ],
   "source": [
    "Ann_port_std\n"
   ]
  },
  {
   "cell_type": "code",
   "execution_count": 18,
   "metadata": {},
   "outputs": [
    {
     "data": {
      "text/plain": [
       "BRIIX    0.156517\n",
       "BUFHX    0.061047\n",
       "DFAIX    0.031863\n",
       "LMLCX    0.036755\n",
       "SOAIX    0.050151\n",
       "dtype: float64"
      ]
     },
     "execution_count": 18,
     "metadata": {},
     "output_type": "execute_result"
    }
   ],
   "source": [
    "# Yearly returns for individual companies\n",
    "ind_er = df.resample('Y').last().pct_change().mean()\n",
    "ind_er"
   ]
  },
  {
   "cell_type": "code",
   "execution_count": 19,
   "metadata": {},
   "outputs": [
    {
     "data": {
      "text/plain": [
       "0.06726688003675284"
      ]
     },
     "execution_count": 19,
     "metadata": {},
     "output_type": "execute_result"
    }
   ],
   "source": [
    "# Portfolio returns\n",
    "w = [0.20,0.20,0.20,0.20,0.20]\n",
    "port_er = (w*ind_er).sum()\n",
    "port_er\n",
    "\n"
   ]
  },
  {
   "cell_type": "markdown",
   "metadata": {},
   "source": [
    "Plotting the efficient frontier This is the aim of going through all the topics above, to plot the efficient frontier. Efficient frontier is a graph with ‘returns’\n",
    "on the Y-axis and ‘volatility’ on the X-axis. It shows us the maximum return we can get for a set level of volatility, or conversely, the volatility that we\n",
    "need to accept for certain level of returns.\n",
    "The plot of efficient frontier looks something like the digram shown in class:\n",
    "Efficient Frontier\n",
    "Below, you can see the calculations and code for finding the optimal weights of assets and plotting the efficient frontier for given portfolio. But first,\n",
    "lets take a look at the volatiltilty and returns of individual assets for a better understanding."
   ]
  },
  {
   "cell_type": "code",
   "execution_count": 20,
   "metadata": {},
   "outputs": [
    {
     "data": {
      "text/plain": [
       "BRIIX    0.230936\n",
       "BUFHX    0.050823\n",
       "DFAIX    0.017311\n",
       "LMLCX    0.072555\n",
       "SOAIX    0.050347\n",
       "dtype: float64"
      ]
     },
     "execution_count": 20,
     "metadata": {},
     "output_type": "execute_result"
    }
   ],
   "source": [
    "# Volatility is given by the annual standard deviation. We multiply by 252 because there are 252 trading days/year\n",
    "ann_sd = df.pct_change().apply(lambda x: np.log(1+x)).std().apply(lambda x: x*np.sqrt(252))\n",
    "ann_sd"
   ]
  },
  {
   "cell_type": "code",
   "execution_count": 21,
   "metadata": {},
   "outputs": [
    {
     "data": {
      "text/html": [
       "<div>\n",
       "<style scoped>\n",
       "    .dataframe tbody tr th:only-of-type {\n",
       "        vertical-align: middle;\n",
       "    }\n",
       "\n",
       "    .dataframe tbody tr th {\n",
       "        vertical-align: top;\n",
       "    }\n",
       "\n",
       "    .dataframe thead th {\n",
       "        text-align: right;\n",
       "    }\n",
       "</style>\n",
       "<table border=\"1\" class=\"dataframe\">\n",
       "  <thead>\n",
       "    <tr style=\"text-align: right;\">\n",
       "      <th></th>\n",
       "      <th>Returns</th>\n",
       "      <th>Volatility</th>\n",
       "    </tr>\n",
       "  </thead>\n",
       "  <tbody>\n",
       "    <tr>\n",
       "      <th>BRIIX</th>\n",
       "      <td>0.156517</td>\n",
       "      <td>0.230936</td>\n",
       "    </tr>\n",
       "    <tr>\n",
       "      <th>BUFHX</th>\n",
       "      <td>0.061047</td>\n",
       "      <td>0.050823</td>\n",
       "    </tr>\n",
       "    <tr>\n",
       "      <th>DFAIX</th>\n",
       "      <td>0.031863</td>\n",
       "      <td>0.017311</td>\n",
       "    </tr>\n",
       "    <tr>\n",
       "      <th>LMLCX</th>\n",
       "      <td>0.036755</td>\n",
       "      <td>0.072555</td>\n",
       "    </tr>\n",
       "    <tr>\n",
       "      <th>SOAIX</th>\n",
       "      <td>0.050151</td>\n",
       "      <td>0.050347</td>\n",
       "    </tr>\n",
       "  </tbody>\n",
       "</table>\n",
       "</div>"
      ],
      "text/plain": [
       "        Returns  Volatility\n",
       "BRIIX  0.156517    0.230936\n",
       "BUFHX  0.061047    0.050823\n",
       "DFAIX  0.031863    0.017311\n",
       "LMLCX  0.036755    0.072555\n",
       "SOAIX  0.050151    0.050347"
      ]
     },
     "execution_count": 21,
     "metadata": {},
     "output_type": "execute_result"
    }
   ],
   "source": [
    "assets = pd.concat([ind_er, ann_sd], axis=1) # Creating a table for visualising returns and volatility of assets\n",
    "assets.columns = ['Returns', 'Volatility']\n",
    "assets\n"
   ]
  },
  {
   "cell_type": "code",
   "execution_count": 22,
   "metadata": {},
   "outputs": [
    {
     "data": {
      "image/png": "[encoded data removed]",
      "text/plain": [
       "<Figure size 432x288 with 1 Axes>"
      ]
     },
     "metadata": {
      "needs_background": "light"
     },
     "output_type": "display_data"
    }
   ],
   "source": [
    "import matplotlib.pyplot as plt\n",
    "x = ann_sd # RISK\n",
    "y = ind_er # Return\n",
    "plt.scatter(x, y)\n",
    "plt.show()"
   ]
  },
  {
   "cell_type": "markdown",
   "metadata": {},
   "source": [
    "Next, to plot the graph of efficient frontier, we need run a loop. In each iteration, the loop considers different weights for assets and calculates the\n",
    "return and volatility of that particular portfolio combination.\n",
    "We run this loop a 10000 times.\n",
    "To get random numbers for weights, we use the np.random.random() function. But remember that the sum of weights must be 1, so we divide those\n",
    "weights by their cumulative sum. Keep reading further to see how it’s done."
   ]
  },
  {
   "cell_type": "code",
   "execution_count": 23,
   "metadata": {},
   "outputs": [],
   "source": [
    "p_ret = [] # Define an empty array for portfolio returns\n",
    "p_vol = [] # Define an empty array for portfolio volatility\n",
    "p_weights = [] # Define an empty array for asset weights\n",
    "num_assets = len(df.columns)\n",
    "num_portfolios = 10000\n"
   ]
  },
  {
   "cell_type": "code",
   "execution_count": 24,
   "metadata": {},
   "outputs": [],
   "source": [
    "for portfolio in range(num_portfolios):\n",
    " weights = np.random.random(num_assets)\n",
    " weights = weights/np.sum(weights)\n",
    " p_weights.append(weights)\n",
    " returns = np.dot(weights, ind_er) # Returns are the product of individual expected returns of asset and its \n",
    " # weights \n",
    " p_ret.append(returns)\n",
    " var = cov_matrix.mul(weights, axis=0).mul(weights, axis=1).sum().sum() # Portfolio Variance\n",
    " sd = np.sqrt(var) #Daily standard deviation\n",
    " ann_sd = sd*np.sqrt(252) #Annual standard deviation = volatility\n",
    " p_vol.append(ann_sd)"
   ]
  },
  {
   "cell_type": "code",
   "execution_count": 25,
   "metadata": {},
   "outputs": [
    {
     "data": {
      "text/html": [
       "<div>\n",
       "<style scoped>\n",
       "    .dataframe tbody tr th:only-of-type {\n",
       "        vertical-align: middle;\n",
       "    }\n",
       "\n",
       "    .dataframe tbody tr th {\n",
       "        vertical-align: top;\n",
       "    }\n",
       "\n",
       "    .dataframe thead th {\n",
       "        text-align: right;\n",
       "    }\n",
       "</style>\n",
       "<table border=\"1\" class=\"dataframe\">\n",
       "  <thead>\n",
       "    <tr style=\"text-align: right;\">\n",
       "      <th></th>\n",
       "      <th>Returns</th>\n",
       "      <th>Volatility</th>\n",
       "      <th>BRIIX weight</th>\n",
       "      <th>BUFHX weight</th>\n",
       "      <th>DFAIX weight</th>\n",
       "      <th>LMLCX weight</th>\n",
       "      <th>SOAIX weight</th>\n",
       "    </tr>\n",
       "  </thead>\n",
       "  <tbody>\n",
       "    <tr>\n",
       "      <th>0</th>\n",
       "      <td>0.047904</td>\n",
       "      <td>0.050033</td>\n",
       "      <td>0.038904</td>\n",
       "      <td>0.198865</td>\n",
       "      <td>0.208393</td>\n",
       "      <td>0.353901</td>\n",
       "      <td>0.199937</td>\n",
       "    </tr>\n",
       "    <tr>\n",
       "      <th>1</th>\n",
       "      <td>0.059483</td>\n",
       "      <td>0.051004</td>\n",
       "      <td>0.116343</td>\n",
       "      <td>0.416612</td>\n",
       "      <td>0.388383</td>\n",
       "      <td>0.035818</td>\n",
       "      <td>0.042844</td>\n",
       "    </tr>\n",
       "    <tr>\n",
       "      <th>2</th>\n",
       "      <td>0.059257</td>\n",
       "      <td>0.056769</td>\n",
       "      <td>0.054255</td>\n",
       "      <td>0.657194</td>\n",
       "      <td>0.067498</td>\n",
       "      <td>0.193430</td>\n",
       "      <td>0.027622</td>\n",
       "    </tr>\n",
       "    <tr>\n",
       "      <th>3</th>\n",
       "      <td>0.071500</td>\n",
       "      <td>0.077987</td>\n",
       "      <td>0.237246</td>\n",
       "      <td>0.196585</td>\n",
       "      <td>0.221180</td>\n",
       "      <td>0.148044</td>\n",
       "      <td>0.196945</td>\n",
       "    </tr>\n",
       "    <tr>\n",
       "      <th>4</th>\n",
       "      <td>0.080718</td>\n",
       "      <td>0.099490</td>\n",
       "      <td>0.313944</td>\n",
       "      <td>0.193160</td>\n",
       "      <td>0.071491</td>\n",
       "      <td>0.270500</td>\n",
       "      <td>0.150905</td>\n",
       "    </tr>\n",
       "  </tbody>\n",
       "</table>\n",
       "</div>"
      ],
      "text/plain": [
       "    Returns  Volatility  BRIIX weight  BUFHX weight  DFAIX weight  \\\n",
       "0  0.047904    0.050033      0.038904      0.198865      0.208393   \n",
       "1  0.059483    0.051004      0.116343      0.416612      0.388383   \n",
       "2  0.059257    0.056769      0.054255      0.657194      0.067498   \n",
       "3  0.071500    0.077987      0.237246      0.196585      0.221180   \n",
       "4  0.080718    0.099490      0.313944      0.193160      0.071491   \n",
       "\n",
       "   LMLCX weight  SOAIX weight  \n",
       "0      0.353901      0.199937  \n",
       "1      0.035818      0.042844  \n",
       "2      0.193430      0.027622  \n",
       "3      0.148044      0.196945  \n",
       "4      0.270500      0.150905  "
      ]
     },
     "execution_count": 25,
     "metadata": {},
     "output_type": "execute_result"
    }
   ],
   "source": [
    "data = {'Returns':p_ret, 'Volatility':p_vol}\n",
    "for counter, symbol in enumerate(df.columns.tolist()):\n",
    " #print(counter, symbol)\n",
    " data[symbol+' weight'] = [w[counter] for w in p_weights]\n",
    "portfolios = pd.DataFrame(data)\n",
    "portfolios.head() # Dataframe of the 10000 portfolios created\n"
   ]
  },
  {
   "cell_type": "code",
   "execution_count": 26,
   "metadata": {},
   "outputs": [
    {
     "data": {
      "text/plain": [
       "<matplotlib.axes._subplots.AxesSubplot at 0x1a024009d68>"
      ]
     },
     "execution_count": 26,
     "metadata": {},
     "output_type": "execute_result"
    },
    {
     "data": {
      "image/png": "[encoded data removed]",
      "text/plain": [
       "<Figure size 360x360 with 1 Axes>"
      ]
     },
     "metadata": {
      "needs_background": "light"
     },
     "output_type": "display_data"
    }
   ],
   "source": [
    "# Plot efficient frontier\n",
    "portfolios.plot.scatter(x='Volatility', y='Returns', marker='o', s=10, alpha=0.3, grid=True, figsize=[5,5])\n"
   ]
  },
  {
   "cell_type": "code",
   "execution_count": 27,
   "metadata": {},
   "outputs": [
    {
     "data": {
      "text/plain": [
       "Returns         0.039683\n",
       "Volatility      0.026098\n",
       "BRIIX weight    0.010139\n",
       "BUFHX weight    0.158673\n",
       "DFAIX weight    0.666138\n",
       "LMLCX weight    0.081622\n",
       "SOAIX weight    0.083428\n",
       "Name: 1958, dtype: float64"
      ]
     },
     "execution_count": 27,
     "metadata": {},
     "output_type": "execute_result"
    }
   ],
   "source": [
    "min_vol_port = portfolios.iloc[portfolios['Volatility'].idxmin()]\n",
    "# idxmin() gives us the minimum value in the column specified. \n",
    "min_vol_port\n"
   ]
  },
  {
   "cell_type": "code",
   "execution_count": 28,
   "metadata": {},
   "outputs": [
    {
     "data": {
      "text/plain": [
       "<matplotlib.collections.PathCollection at 0x1a0252ec278>"
      ]
     },
     "execution_count": 28,
     "metadata": {},
     "output_type": "execute_result"
    },
    {
     "data": {
      "image/png": "[encoded data removed]",
      "text/plain": [
       "<Figure size 432x360 with 1 Axes>"
      ]
     },
     "metadata": {
      "needs_background": "light"
     },
     "output_type": "display_data"
    }
   ],
   "source": [
    "# plotting the minimum volatility portfolio\n",
    "plt.subplots(figsize=[6,5])\n",
    "plt.scatter(portfolios['Volatility'], portfolios['Returns'],marker='o', s=10, alpha=0.3)\n",
    "plt.scatter(min_vol_port[1], min_vol_port[0], color='r', marker='*', s=200)\n"
   ]
  },
  {
   "cell_type": "markdown",
   "metadata": {},
   "source": [
    "Sharpe Ratio The ratio is the average return earned in excess of the risk-free rate per unit of volatility or total risk. Volatility is a measure of the price\n",
    "fluctuations of an asset or portfolio.\n",
    "The risk-free rate of return is the return on an investment with zero risk, meaning it’s the return investors could expect for taking no risk.\n",
    "The optimal risky portfolio is the one with the highest Sharpe ratio.\n",
    "Optimal Risky Portfolio An optimal risky portfolio can be considered as one that has highest Sharpe ratio.\n",
    "Let’s find out."
   ]
  },
  {
   "cell_type": "code",
   "execution_count": 29,
   "metadata": {},
   "outputs": [
    {
     "data": {
      "text/plain": [
       "Returns         0.119664\n",
       "Volatility      0.157685\n",
       "BRIIX weight    0.623252\n",
       "BUFHX weight    0.310531\n",
       "DFAIX weight    0.002474\n",
       "LMLCX weight    0.008831\n",
       "SOAIX weight    0.054912\n",
       "Name: 7841, dtype: float64"
      ]
     },
     "execution_count": 29,
     "metadata": {},
     "output_type": "execute_result"
    }
   ],
   "source": [
    "# Finding the optimal portfolio\n",
    "rf = 0.05 # risk factor\n",
    "optimal_risky_port = portfolios.iloc[((portfolios['Returns']-rf)/portfolios['Volatility']).idxmax()]\n",
    "optimal_risky_port"
   ]
  },
  {
   "cell_type": "code",
   "execution_count": 30,
   "metadata": {},
   "outputs": [
    {
     "data": {
      "text/plain": [
       "<matplotlib.collections.PathCollection at 0x1a0253540b8>"
      ]
     },
     "execution_count": 30,
     "metadata": {},
     "output_type": "execute_result"
    },
    {
     "data": {
      "image/png": "[encoded data removed]",
      "text/plain": [
       "<Figure size 360x432 with 1 Axes>"
      ]
     },
     "metadata": {
      "needs_background": "light"
     },
     "output_type": "display_data"
    }
   ],
   "source": [
    "# Plotting optimal portfolio\n",
    "plt.subplots(figsize=(5, 6))\n",
    "plt.scatter(portfolios['Volatility'], portfolios['Returns'],marker='o', s=10, alpha=0.3)\n",
    "plt.scatter(min_vol_port[1], min_vol_port[0], color='r', marker='*', s=500)\n",
    "plt.scatter(optimal_risky_port[1], optimal_risky_port[0], color='g', marker='*', s=500)"
   ]
  }
 ],
 "metadata": {
  "kernelspec": {
   "display_name": "Python 3",
   "language": "python",
   "name": "python3"
  },
  "language_info": {
   "codemirror_mode": {
    "name": "ipython",
    "version": 3
   },
   "file_extension": ".py",
   "mimetype": "text/x-python",
   "name": "python",
   "nbconvert_exporter": "python",
   "pygments_lexer": "ipython3",
   "version": "3.7.3"
  }
 },
 "nbformat": 4,
 "nbformat_minor": 2
}
